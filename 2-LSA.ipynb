{
 "cells": [
  {
   "cell_type": "code",
   "execution_count": 18,
   "metadata": {},
   "outputs": [],
   "source": [
    "import pandas as pd\n",
    "from sklearn.decomposition import TruncatedSVD\n",
    "from sklearn.feature_extraction.text import TfidfVectorizer\n",
    "import matplotlib.pyplot as plt\n",
    "%matplotlib inline\n"
   ]
  },
  {
   "cell_type": "code",
   "execution_count": 30,
   "metadata": {},
   "outputs": [],
   "source": [
    "dfs = []\n",
    "for i in [1, 2, 3]:\n",
    "    dfs.append(pd.read_csv(f'articles{i}.csv',\n",
    "                           index_col=0,\n",
    "                           parse_dates=['date', 'year', 'month'],\n",
    "                           infer_datetime_format=True))\n",
    "\n",
    "news_df = pd.concat(dfs, axis=0)"
   ]
  },
  {
   "cell_type": "markdown",
   "metadata": {},
   "source": [
    "We have about 140k news articles in here."
   ]
  },
  {
   "cell_type": "code",
   "execution_count": 32,
   "metadata": {},
   "outputs": [
    {
     "data": {
      "text/plain": [
       "(142570, 9)"
      ]
     },
     "execution_count": 32,
     "metadata": {},
     "output_type": "execute_result"
    }
   ],
   "source": [
    "news_df.shape"
   ]
  },
  {
   "cell_type": "code",
   "execution_count": 31,
   "metadata": {},
   "outputs": [
    {
     "data": {
      "text/html": [
       "<div>\n",
       "<style scoped>\n",
       "    .dataframe tbody tr th:only-of-type {\n",
       "        vertical-align: middle;\n",
       "    }\n",
       "\n",
       "    .dataframe tbody tr th {\n",
       "        vertical-align: top;\n",
       "    }\n",
       "\n",
       "    .dataframe thead th {\n",
       "        text-align: right;\n",
       "    }\n",
       "</style>\n",
       "<table border=\"1\" class=\"dataframe\">\n",
       "  <thead>\n",
       "    <tr style=\"text-align: right;\">\n",
       "      <th></th>\n",
       "      <th>id</th>\n",
       "      <th>title</th>\n",
       "      <th>publication</th>\n",
       "      <th>author</th>\n",
       "      <th>date</th>\n",
       "      <th>year</th>\n",
       "      <th>month</th>\n",
       "      <th>url</th>\n",
       "      <th>content</th>\n",
       "    </tr>\n",
       "  </thead>\n",
       "  <tbody>\n",
       "    <tr>\n",
       "      <th>0</th>\n",
       "      <td>17283</td>\n",
       "      <td>House Republicans Fret About Winning Their Hea...</td>\n",
       "      <td>New York Times</td>\n",
       "      <td>Carl Hulse</td>\n",
       "      <td>2016-12-31</td>\n",
       "      <td>2016.0</td>\n",
       "      <td>12.0</td>\n",
       "      <td>NaN</td>\n",
       "      <td>WASHINGTON  —   Congressional Republicans have...</td>\n",
       "    </tr>\n",
       "    <tr>\n",
       "      <th>1</th>\n",
       "      <td>17284</td>\n",
       "      <td>Rift Between Officers and Residents as Killing...</td>\n",
       "      <td>New York Times</td>\n",
       "      <td>Benjamin Mueller and Al Baker</td>\n",
       "      <td>2017-06-19</td>\n",
       "      <td>2017.0</td>\n",
       "      <td>6.0</td>\n",
       "      <td>NaN</td>\n",
       "      <td>After the bullet shells get counted, the blood...</td>\n",
       "    </tr>\n",
       "    <tr>\n",
       "      <th>2</th>\n",
       "      <td>17285</td>\n",
       "      <td>Tyrus Wong, ‘Bambi’ Artist Thwarted by Racial ...</td>\n",
       "      <td>New York Times</td>\n",
       "      <td>Margalit Fox</td>\n",
       "      <td>2017-01-06</td>\n",
       "      <td>2017.0</td>\n",
       "      <td>1.0</td>\n",
       "      <td>NaN</td>\n",
       "      <td>When Walt Disney’s “Bambi” opened in 1942, cri...</td>\n",
       "    </tr>\n",
       "    <tr>\n",
       "      <th>3</th>\n",
       "      <td>17286</td>\n",
       "      <td>Among Deaths in 2016, a Heavy Toll in Pop Musi...</td>\n",
       "      <td>New York Times</td>\n",
       "      <td>William McDonald</td>\n",
       "      <td>2017-04-10</td>\n",
       "      <td>2017.0</td>\n",
       "      <td>4.0</td>\n",
       "      <td>NaN</td>\n",
       "      <td>Death may be the great equalizer, but it isn’t...</td>\n",
       "    </tr>\n",
       "    <tr>\n",
       "      <th>4</th>\n",
       "      <td>17287</td>\n",
       "      <td>Kim Jong-un Says North Korea Is Preparing to T...</td>\n",
       "      <td>New York Times</td>\n",
       "      <td>Choe Sang-Hun</td>\n",
       "      <td>2017-01-02</td>\n",
       "      <td>2017.0</td>\n",
       "      <td>1.0</td>\n",
       "      <td>NaN</td>\n",
       "      <td>SEOUL, South Korea  —   North Korea’s leader, ...</td>\n",
       "    </tr>\n",
       "  </tbody>\n",
       "</table>\n",
       "</div>"
      ],
      "text/plain": [
       "      id                                              title     publication  \\\n",
       "0  17283  House Republicans Fret About Winning Their Hea...  New York Times   \n",
       "1  17284  Rift Between Officers and Residents as Killing...  New York Times   \n",
       "2  17285  Tyrus Wong, ‘Bambi’ Artist Thwarted by Racial ...  New York Times   \n",
       "3  17286  Among Deaths in 2016, a Heavy Toll in Pop Musi...  New York Times   \n",
       "4  17287  Kim Jong-un Says North Korea Is Preparing to T...  New York Times   \n",
       "\n",
       "                          author       date    year month  url  \\\n",
       "0                     Carl Hulse 2016-12-31  2016.0  12.0  NaN   \n",
       "1  Benjamin Mueller and Al Baker 2017-06-19  2017.0   6.0  NaN   \n",
       "2                   Margalit Fox 2017-01-06  2017.0   1.0  NaN   \n",
       "3               William McDonald 2017-04-10  2017.0   4.0  NaN   \n",
       "4                  Choe Sang-Hun 2017-01-02  2017.0   1.0  NaN   \n",
       "\n",
       "                                             content  \n",
       "0  WASHINGTON  —   Congressional Republicans have...  \n",
       "1  After the bullet shells get counted, the blood...  \n",
       "2  When Walt Disney’s “Bambi” opened in 1942, cri...  \n",
       "3  Death may be the great equalizer, but it isn’t...  \n",
       "4  SEOUL, South Korea  —   North Korea’s leader, ...  "
      ]
     },
     "execution_count": 31,
     "metadata": {},
     "output_type": "execute_result"
    }
   ],
   "source": [
    "news_df.head()"
   ]
  },
  {
   "cell_type": "code",
   "execution_count": 53,
   "metadata": {},
   "outputs": [],
   "source": [
    "# only take words with document frequencies between 2% and 80%, where words show up in that range of docs\n",
    "news_vectorizer = TfidfVectorizer(stop_words='english', max_df=0.8, min_df=0.02)"
   ]
  },
  {
   "cell_type": "code",
   "execution_count": 47,
   "metadata": {},
   "outputs": [],
   "source": [
    "tfidf = news_vectorizer.fit_transform(news_df['content'])"
   ]
  },
  {
   "cell_type": "code",
   "execution_count": 48,
   "metadata": {},
   "outputs": [
    {
     "data": {
      "text/plain": [
       "(142570, 356)"
      ]
     },
     "execution_count": 48,
     "metadata": {},
     "output_type": "execute_result"
    }
   ],
   "source": [
    "tfidf.shape"
   ]
  },
  {
   "cell_type": "code",
   "execution_count": 10,
   "metadata": {},
   "outputs": [],
   "source": [
    "dim = 500\n",
    "svd = TruncatedSVD(n_components=dim)"
   ]
  },
  {
   "cell_type": "code",
   "execution_count": 11,
   "metadata": {},
   "outputs": [],
   "source": [
    "lsa = svd.fit_transform(tfidf)"
   ]
  },
  {
   "cell_type": "markdown",
   "metadata": {},
   "source": [
    "The sklearn docs suggest using 100 for number of dimensions, but other implementations like lsa in R use 50% of explained variance to determine number of dimensions. Looks like we could use even more than 500 topics to explain 50% of the variance.  This is probably due to the huge amount of time the news stories cover.  Let's instead take just the most recent month and restart the topic modeling analysis."
   ]
  },
  {
   "cell_type": "code",
   "execution_count": 21,
   "metadata": {},
   "outputs": [
    {
     "data": {
      "text/plain": [
       "500"
      ]
     },
     "execution_count": 21,
     "metadata": {},
     "output_type": "execute_result"
    }
   ],
   "source": [
    "(svd.explained_variance_ratio_.cumsum() <= 0.5).sum()"
   ]
  },
  {
   "cell_type": "code",
   "execution_count": 22,
   "metadata": {},
   "outputs": [
    {
     "data": {
      "image/png": "[encoded data removed]",
      "text/plain": [
       "<Figure size 432x288 with 1 Axes>"
      ]
     },
     "metadata": {
      "needs_background": "light"
     },
     "output_type": "display_data"
    }
   ],
   "source": [
    "_ = plt.plot(svd.explained_variance_ratio_.cumsum())"
   ]
  },
  {
   "cell_type": "markdown",
   "metadata": {},
   "source": [
    "# Narrowing down the data to the most recent month\n",
    "\n",
    "Since news data changes a lot, it makes sense to narrow it down to more recent news.  We'll take the last 30 days."
   ]
  },
  {
   "cell_type": "code",
   "execution_count": 36,
   "metadata": {},
   "outputs": [
    {
     "data": {
      "text/plain": [
       "Timestamp('2017-07-06 00:00:00')"
      ]
     },
     "execution_count": 36,
     "metadata": {},
     "output_type": "execute_result"
    }
   ],
   "source": [
    "max_date = news_df['date'].max()\n",
    "max_date"
   ]
  },
  {
   "cell_type": "code",
   "execution_count": 35,
   "metadata": {},
   "outputs": [
    {
     "data": {
      "text/plain": [
       "Timestamp('2017-06-06 00:00:00')"
      ]
     },
     "execution_count": 35,
     "metadata": {},
     "output_type": "execute_result"
    }
   ],
   "source": [
    "# take news stories going back 30 days\n",
    "min_date = news_df['date'].max() - pd.Timedelta('30D')\n",
    "min_date"
   ]
  },
  {
   "cell_type": "code",
   "execution_count": 40,
   "metadata": {},
   "outputs": [
    {
     "data": {
      "text/plain": [
       "(4559, 9)"
      ]
     },
     "execution_count": 40,
     "metadata": {},
     "output_type": "execute_result"
    }
   ],
   "source": [
    "recent_df = news_df[(news_df['date'] > min_date) & (news_df['date'] < max_date)]\n",
    "recent_df.shape"
   ]
  },
  {
   "cell_type": "markdown",
   "metadata": {},
   "source": [
    "Now let's try the LSA analysis again."
   ]
  },
  {
   "cell_type": "code",
   "execution_count": 54,
   "metadata": {},
   "outputs": [
    {
     "data": {
      "text/plain": [
       "(4559, 2619)"
      ]
     },
     "execution_count": 54,
     "metadata": {},
     "output_type": "execute_result"
    }
   ],
   "source": [
    "tfidf = news_vectorizer.fit_transform(recent_df['content'])\n",
    "tfidf.shape"
   ]
  },
  {
   "cell_type": "code",
   "execution_count": 55,
   "metadata": {},
   "outputs": [],
   "source": [
    "dim = 500\n",
    "svd = TruncatedSVD(n_components=dim)"
   ]
  },
  {
   "cell_type": "code",
   "execution_count": 56,
   "metadata": {},
   "outputs": [],
   "source": [
    "lsa = svd.fit_transform(tfidf)"
   ]
  },
  {
   "cell_type": "code",
   "execution_count": 57,
   "metadata": {},
   "outputs": [
    {
     "data": {
      "text/plain": [
       "264"
      ]
     },
     "execution_count": 57,
     "metadata": {},
     "output_type": "execute_result"
    }
   ],
   "source": [
    "(svd.explained_variance_ratio_.cumsum() <= 0.5).sum()"
   ]
  },
  {
   "cell_type": "code",
   "execution_count": 58,
   "metadata": {},
   "outputs": [
    {
     "data": {
      "image/png": "[encoded data removed]",
      "text/plain": [
       "<Figure size 432x288 with 1 Axes>"
      ]
     },
     "metadata": {
      "needs_background": "light"
     },
     "output_type": "display_data"
    }
   ],
   "source": [
    "_ = plt.plot(svd.explained_variance_ratio_.cumsum())"
   ]
  },
  {
   "cell_type": "markdown",
   "metadata": {},
   "source": [
    "We've improved a bit, but there's still lots of topics in there (~250) to explain 50% of the variance."
   ]
  },
  {
   "attachments": {},
   "cell_type": "markdown",
   "metadata": {},
   "source": [
    "LSA breaks down the TFIDF matrix intro 3 matrices and is the same idea as SVD with slightly modified dimensions:\n",
    "\n",
    "![LSA/SVD](images/LSA_SVD_Decomposition.png)\n",
    "Source: https://alexisperrier.com/nlp/2015/09/16/segmentation_twitter_timelines_lda_vs_lsa.html\n",
    "\n",
    "The matrix dimensions are:\n",
    "\n",
    "- M: d x w, docs vs words\n",
    "- U: d x t, docs vs topics\n",
    "- Sigma: t x w, topics vs words\n",
    "- V*: t x t, topics vs topics\n",
    "\n",
    "If we were to transpose the tfidf matrix (tfidf.T), we would match most of the digrams shown for LSA, like this one:\n",
    "\n",
    "\n",
    "![LSA](images/lsa_2.png)\n",
    "Source: https://link.springer.com/chapter/10.1007/978-3-319-95663-3_6"
   ]
  },
  {
   "cell_type": "code",
   "execution_count": 82,
   "metadata": {},
   "outputs": [
    {
     "data": {
      "text/plain": [
       "(4559, 2619)"
      ]
     },
     "execution_count": 82,
     "metadata": {},
     "output_type": "execute_result"
    }
   ],
   "source": [
    "# M matrix, d x w\n",
    "tfidf.shape"
   ]
  },
  {
   "cell_type": "code",
   "execution_count": 83,
   "metadata": {},
   "outputs": [
    {
     "data": {
      "text/plain": [
       "(4559, 500)"
      ]
     },
     "execution_count": 83,
     "metadata": {},
     "output_type": "execute_result"
    }
   ],
   "source": [
    "# U matrix -- d x t, documents vs topics\n",
    "lsa.shape"
   ]
  },
  {
   "cell_type": "code",
   "execution_count": 87,
   "metadata": {},
   "outputs": [
    {
     "data": {
      "text/plain": [
       "(500,)"
      ]
     },
     "execution_count": 87,
     "metadata": {},
     "output_type": "execute_result"
    }
   ],
   "source": [
    "# Sigma matrix -- t x t, weights/importances of topics\n",
    "svd.singular_values_.shape"
   ]
  },
  {
   "cell_type": "code",
   "execution_count": 86,
   "metadata": {},
   "outputs": [
    {
     "data": {
      "text/plain": [
       "(500, 2619)"
      ]
     },
     "execution_count": 86,
     "metadata": {},
     "output_type": "execute_result"
    }
   ],
   "source": [
    "# V* or VT matrix -- t x w, topics vs words\n",
    "svd.components_.shape"
   ]
  },
  {
   "cell_type": "markdown",
   "metadata": {},
   "source": [
    "So let's say we want to take the top few topics and see what they're about.  Let's stick with the top 10 topics to make it easier to understand.  We can get the indices of the top 10 topics from the V* matrix:"
   ]
  },
  {
   "cell_type": "code",
   "execution_count": 65,
   "metadata": {},
   "outputs": [
    {
     "data": {
      "text/plain": [
       "array([0, 1, 2, 3, 4, 5, 6, 7, 8, 9])"
      ]
     },
     "execution_count": 65,
     "metadata": {},
     "output_type": "execute_result"
    }
   ],
   "source": [
    "svd.singular_values_.argsort()[::-1][:10]"
   ]
  },
  {
   "cell_type": "code",
   "execution_count": 67,
   "metadata": {},
   "outputs": [
    {
     "data": {
      "text/plain": [
       "array([17.26434261, 10.21378074,  7.44800654,  7.11339986,  6.9019157 ,\n",
       "        6.38400007,  5.99326213,  5.87278471,  5.69324802,  5.52498243,\n",
       "        5.04220516,  4.90975405,  4.8380779 ,  4.71805042,  4.58910179,\n",
       "        4.46051972,  4.35935285,  4.190546  ,  4.16276483,  4.14291592])"
      ]
     },
     "execution_count": 67,
     "metadata": {},
     "output_type": "execute_result"
    }
   ],
   "source": [
    "svd.singular_values_[:20]"
   ]
  },
  {
   "cell_type": "markdown",
   "metadata": {},
   "source": [
    "Turns out the SVD V* matrix is already ordered by topic importance, making it easier."
   ]
  },
  {
   "cell_type": "markdown",
   "metadata": {},
   "source": [
    "Next let's look at the top words in these topics.  There is definitely a better matrix-based way to do this, but I haven't figured it out, so I'm doing it row-by-row.\n",
    "\n",
    "We can think of the values in each sigma row as the weight of that word in the topic.  So to get the top words, we get the indices of the top values.  Then we go back to our tfidfvectorizer to get the matching vocabulary."
   ]
  },
  {
   "cell_type": "markdown",
   "metadata": {},
   "source": [
    "We need to first create a dictionary of indices to vocab from our TFIDF vectorizer, though."
   ]
  },
  {
   "cell_type": "code",
   "execution_count": 95,
   "metadata": {},
   "outputs": [],
   "source": [
    "# we just reverse the dictionary of word: index to index: word\n",
    "idx_vocab_dict = {i: w for w, i in news_vectorizer.vocabulary_.items()}"
   ]
  },
  {
   "cell_type": "code",
   "execution_count": 98,
   "metadata": {},
   "outputs": [
    {
     "data": {
      "text/plain": [
       "'adding'"
      ]
     },
     "execution_count": 98,
     "metadata": {},
     "output_type": "execute_result"
    }
   ],
   "source": [
    "idx_vocab_dict[100]"
   ]
  },
  {
   "cell_type": "code",
   "execution_count": 103,
   "metadata": {},
   "outputs": [
    {
     "name": "stdout",
     "output_type": "stream",
     "text": [
      "topic 0 top 20 words:\n",
      "trump, said, president, comey, people, house, new, says, just, investigation, like, state, time, told, police, white, government, russia, percent, fbi\n",
      "\n",
      "\n",
      "\n",
      "topic 1 top 20 words:\n",
      "comey, trump, president, fbi, investigation, russia, sessions, testimony, mueller, director, committee, flynn, intelligence, russian, justice, senate, counsel, james, obstruction, attorney\n",
      "\n",
      "\n",
      "\n",
      "topic 2 top 20 words:\n",
      "trump, percent, republicans, republican, senate, democrats, house, party, tax, medicaid, billion, obamacare, government, vote, states, election, health, obama, administration, voters\n",
      "\n",
      "\n",
      "\n",
      "topic 3 top 20 words:\n",
      "said, korea, north, police, company, qatar, comey, china, billion, percent, investigation, military, bank, attack, wednesday, officials, forces, korean, islamic, security\n",
      "\n",
      "\n",
      "\n",
      "topic 4 top 20 words:\n",
      "percent, comey, company, billion, bank, market, companies, says, amazon, inflation, million, investors, shares, financial, apple, year, foods, fbi, prices, growth\n",
      "\n",
      "\n",
      "\n",
      "topic 5 top 20 words:\n",
      "korea, north, trump, china, says, korean, world, missile, qatar, like, president, kim, south, united, nuclear, regime, administration, really, think, obama\n",
      "\n",
      "\n",
      "\n",
      "topic 6 top 20 words:\n",
      "korea, north, senate, medicaid, health, korean, care, insurance, obamacare, republicans, mcconnell, coverage, senators, china, kim, house, gop, missile, republican, healthcare\n",
      "\n",
      "\n",
      "\n",
      "topic 7 top 20 words:\n",
      "comey, party, brexit, north, korea, labour, election, minister, eu, britain, corbyn, prime, parliament, seats, vote, theresa, london, senate, conservatives, british\n",
      "\n",
      "\n",
      "\n",
      "topic 8 top 20 words:\n",
      "court, says, qatar, supreme, state, ban, case, law, sessions, government, states, federal, health, attorney, justice, medicaid, women, iran, senate, rights\n",
      "\n",
      "\n",
      "\n",
      "topic 9 top 20 words:\n",
      "qatar, saudi, islamic, forces, syria, iran, military, arabia, gulf, syrian, senate, says, medicaid, arab, isis, attack, city, health, iraq, insurance\n",
      "\n",
      "\n",
      "\n"
     ]
    }
   ],
   "source": [
    "for i in range(10):\n",
    "    # get a topic row with word indices as column \n",
    "    sigma_row = svd.components_[i, :]\n",
    "    # sort from greatest to least\n",
    "    sorted_row = sigma_row.argsort()[::-1]\n",
    "    # take top 20 words and show them\n",
    "    top_20_words = [idx_vocab_dict[s] for s in sorted_row[:20]]\n",
    "    print(f'topic {i} top 20 words:')\n",
    "    print(', '.join(top_20_words))\n",
    "    print('\\n\\n')"
   ]
  },
  {
   "cell_type": "markdown",
   "metadata": {},
   "source": [
    "An improvement would be to take the summed TFIDF values from the words and make a wordcloud from that."
   ]
  },
  {
   "cell_type": "markdown",
   "metadata": {},
   "source": [
    "Next, let's get some sample documents from the top 10 topics."
   ]
  },
  {
   "cell_type": "code",
   "execution_count": 110,
   "metadata": {},
   "outputs": [
    {
     "name": "stdout",
     "output_type": "stream",
     "text": [
      "[0.59298688 0.55783151 0.55258255 0.52659884 0.52636537 0.52594867\n",
      " 0.52437349 0.52390483 0.52291598 0.52165968 0.52049108 0.51422735\n",
      " 0.51404532 0.51346225 0.51309661 0.50934405 0.50400255 0.50048126\n",
      " 0.49921942 0.49900408]\n",
      "topic 0 top 3 stories:\n",
      "Two years ago, they couldn’t look away. Now some Trump supporters are tuning out.\n",
      "Trump transition goes on after weekend meeting potential appointees – live\n",
      "Donald Trump rails against Chamber of Commerce – as it happened\n",
      "\n",
      "\n",
      "\n",
      "[0.68957755 0.67463981 0.66725389 0.65766792 0.64844629 0.64337964\n",
      " 0.63911056 0.63617083 0.63478886 0.62948562 0.62909322 0.62722133\n",
      " 0.6212428  0.6202829  0.61987883 0.61980858 0.61679783 0.61540265\n",
      " 0.61490881 0.61371605]\n",
      "topic 1 top 3 stories:\n",
      "Comey Accuses White House Of ’Lies, Plain And Simple’ About His Firing\n",
      "7 takeaways from Comey’s extraordinary testimony about what Trump told him to do\n",
      "Comey says Trump fired him to undermine FBI Russia investigation\n",
      "\n",
      "\n",
      "\n",
      "[0.34790837 0.33806114 0.33216386 0.32579177 0.31230174 0.31186781\n",
      " 0.30847133 0.30629734 0.30260539 0.30239218 0.30124181 0.30093378\n",
      " 0.30054171 0.30030981 0.29970375 0.29774468 0.29573516 0.2949551\n",
      " 0.29441238 0.29221402]\n",
      "topic 2 top 3 stories:\n",
      "Senate Republicans unveil Obamacare replacement bill, but fate uncertain\n",
      "Facing revolt on healthcare bill, U.S. Senate Republicans delay vote\n",
      "Trump reaches out to lawmakers on healthcare as another says ’no’\n",
      "\n",
      "\n",
      "\n",
      "[0.34324953 0.32602558 0.32487497 0.31324763 0.30132819 0.29960817\n",
      " 0.29555728 0.29551185 0.28829848 0.28818251 0.28731343 0.28621573\n",
      " 0.28435687 0.28179214 0.27867649 0.27691186 0.27647962 0.27625891\n",
      " 0.27533551 0.27480999]\n",
      "topic 3 top 3 stories:\n",
      "North Korea says its ICBM can carry nuclear warhead; U.S. calls for global action\n",
      "U.S. blames North Korea for hacking spree, says more attacks likely\n",
      "North Korea fires suspected land-to-ship missiles as South Korea delays THAAD\n",
      "\n",
      "\n",
      "\n",
      "[0.42258508 0.42072634 0.41868738 0.3923101  0.39195368 0.38719653\n",
      " 0.38554443 0.37882447 0.37785079 0.37433989 0.37222297 0.37188878\n",
      " 0.36849149 0.36088451 0.35994938 0.3555821  0.35489766 0.35374283\n",
      " 0.35253527 0.34612769]\n",
      "topic 4 top 3 stories:\n",
      "Tech sputters again, dragging Wall Street lower\n",
      "Wall St. hits record highs on strong technology, health stocks\n",
      "Amazon-Whole Foods deal roils Wall St.; energy shares gain\n",
      "\n",
      "\n",
      "\n",
      "[0.49014356 0.47477613 0.47047075 0.46839743 0.46184343 0.46179041\n",
      " 0.44378495 0.43795992 0.43566239 0.43184399 0.43107157 0.42909399\n",
      " 0.42658813 0.42185231 0.4186645  0.41277002 0.40781427 0.40241577\n",
      " 0.40151842 0.39144527]\n",
      "topic 5 top 3 stories:\n",
      "North Korea missile launch marks a direct challenge to Trump administration\n",
      "South Korea’s new president: ‘Trump and I have a common goal’\n",
      "We participated in talks with North Korean representatives. This is what we learned.\n",
      "\n",
      "\n",
      "\n",
      "[0.49328319 0.48400944 0.47429396 0.4687554  0.46093563 0.45784157\n",
      " 0.45731209 0.45672096 0.45003961 0.44703342 0.44107598 0.43933644\n",
      " 0.43570412 0.43343954 0.43203773 0.42248467 0.42215713 0.42012912\n",
      " 0.41841561 0.41500972]\n",
      "topic 6 top 3 stories:\n",
      "U.S. student held prisoner by North Korea dies days after release\n",
      "Otto Warmbier’s family declines autopsy as Trump calls death a ’total disgrace’\n",
      "Otto Warmbier’s death highlights plight of foreigners jailed in North Korea\n",
      "\n",
      "\n",
      "\n",
      "[0.48161951 0.467931   0.45080305 0.43710597 0.43654244 0.4296794\n",
      " 0.42743875 0.42675097 0.42648176 0.42238118 0.42060957 0.41734579\n",
      " 0.41319495 0.4056405  0.40266735 0.40163011 0.39657589 0.39159984\n",
      " 0.3855213  0.38016691]\n",
      "topic 7 top 3 stories:\n",
      "Election debacle leaves UK government in a minority on eve of Brexit talks\n",
      "Non-Brits: here’s what you need to know about the British election\n",
      "Theresa May Promises ’Certainty’ After Queen Approves Plan To Form Government\n",
      "\n",
      "\n",
      "\n",
      "[0.37144309 0.34897222 0.34883456 0.33730847 0.33456272 0.33395028\n",
      " 0.33278745 0.3278993  0.32392137 0.3235009  0.31741201 0.31732943\n",
      " 0.31570752 0.31425834 0.31321884 0.31213963 0.30978836 0.30675795\n",
      " 0.30216332 0.30183613]\n",
      "topic 8 top 3 stories:\n",
      "Supreme Court Revives Parts Of Trump’s Travel Ban As It Agrees To Hear Case\n",
      "Supreme Court and top patent court rarely see eye to eye\n",
      "Why the supreme court’s travel ban ruling may not be a win for Trump\n",
      "\n",
      "\n",
      "\n",
      "[0.42941755 0.42082013 0.41323598 0.4123263  0.40934105 0.40916529\n",
      " 0.40238374 0.39712854 0.39613162 0.39253792 0.39184493 0.38939587\n",
      " 0.38870311 0.38799007 0.38296408 0.37699006 0.37532947 0.37188379\n",
      " 0.36830276 0.36830099]\n",
      "topic 9 top 3 stories:\n",
      "Qatar’s Crisis With Saudi Arabia And Gulf Neighbors Has Decades-Long Roots\n",
      "Turkish president says Qatar isolation violates Islamic values\n",
      "Trump reverses course in Qatar call\n",
      "\n",
      "\n",
      "\n"
     ]
    }
   ],
   "source": [
    "for i in range(10):\n",
    "    # get a row of the docs vs topics matrix, U\n",
    "    u_col = lsa[:, i]\n",
    "    # sort it from greatest to least values\n",
    "    u_sorted = u_col.argsort()[::-1]\n",
    "    print(u_col[u_sorted[:20]])\n",
    "    # get the top 3 news titles from each topic\n",
    "    print(f'topic {i} top 3 stories:')\n",
    "    for j in range(3):\n",
    "        print(recent_df.iloc[u_sorted[j]]['title'])\n",
    "    \n",
    "    print('\\n\\n')"
   ]
  },
  {
   "cell_type": "markdown",
   "metadata": {},
   "source": [
    "Nice, it looks like it worked!  We have a few topics about Trump, although with some subtle differences.  Same thing with North Korea.  We also have one cluster having to do with financial markets and stocks, one with the travel ban, and one with Qatar."
   ]
  },
  {
   "cell_type": "markdown",
   "metadata": {},
   "source": [
    "Combining the above two techniques would be good -- get some example titles or sentences from stories and combine them with a list or wordcloud of words from each topic.\n",
    "\n",
    "To improve the analysis, we could stem or lemmatize the words before doing TFIDF."
   ]
  }
 ],
 "metadata": {
  "kernelspec": {
   "display_name": "Python 3",
   "language": "python",
   "name": "python3"
  },
  "language_info": {
   "codemirror_mode": {
    "name": "ipython",
    "version": 3
   },
   "file_extension": ".py",
   "mimetype": "text/x-python",
   "name": "python",
   "nbconvert_exporter": "python",
   "pygments_lexer": "ipython3",
   "version": "3.7.7"
  }
 },
 "nbformat": 4,
 "nbformat_minor": 4
}
